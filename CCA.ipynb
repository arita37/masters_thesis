{
 "cells": [
  {
   "cell_type": "code",
   "execution_count": 1,
   "metadata": {},
   "outputs": [],
   "source": [
    "from sklearn.cross_decomposition import CCA\n",
    "from sklearn.decomposition import PCA\n",
    "from tqdm import tqdm_notebook as tqdm\n",
    "import _pickle as cPickle\n",
    "import numpy as np"
   ]
  },
  {
   "cell_type": "code",
   "execution_count": 2,
   "metadata": {},
   "outputs": [],
   "source": [
    "def load_pickle(path):\n",
    "    with open(path,'rb') as file_:\n",
    "        value = cPickle.load(file_)\n",
    "    return value\n",
    "\n",
    "def flatten_(value_):\n",
    "    for i in range(len(value_)):\n",
    "        value_[i] = value_[i].ravel()\n",
    "    array_ = np.array(value_)\n",
    "    return array_\n",
    "\n",
    "def compute_cca(path_v, path_r):\n",
    "    #load values\n",
    "    array_v = load_pickle(path_v)\n",
    "    array_r = load_pickle(path_r)\n",
    "    \n",
    "    #flatten data\n",
    "    array_v = flatten_(array_v)\n",
    "    array_r = flatten_(array_r)\n",
    "    \n",
    "    print(\"Data dimensions before PCA : \", array_v.shape)\n",
    "    \n",
    "    #PCA\n",
    "    pca = PCA(n_components=50)\n",
    "    array_v = pca.fit_transform(array_v)\n",
    "    array_r = pca.fit_transform(array_r)\n",
    "    \n",
    "    print(\"Data dimensions after PCA : \", array_v.shape)\n",
    "    \n",
    "    #CCA\n",
    "    cca = CCA(n_components=1)\n",
    "    V_c, R_c = cca.fit_transform(array_v, array_r)\n",
    "\n",
    "    #CCA Score\n",
    "    result = np.corrcoef(V_c.T, R_c.T)[0,1]\n",
    "\n",
    "    print(\"Canonical-Correlation Analysis score : \", result)"
   ]
  },
  {
   "cell_type": "code",
   "execution_count": 3,
   "metadata": {
    "scrolled": true
   },
   "outputs": [
    {
     "name": "stdout",
     "output_type": "stream",
     "text": [
      "Data dimensions before PCA :  (1000, 345600)\n",
      "Data dimensions after PCA :  (1000, 50)\n",
      "Canonical-Correlation Analysis score :  0.9463777252633526\n"
     ]
    }
   ],
   "source": [
    "#For virtual env images\n",
    "enet_v = \"./virtual_data/extracted_values_v.pkl\"\n",
    "enet_r = \"./virtual_data/extracted_values_r.pkl\"\n",
    "compute_cca(enet_v,enet_r)"
   ]
  },
  {
   "cell_type": "code",
   "execution_count": 4,
   "metadata": {},
   "outputs": [
    {
     "name": "stdout",
     "output_type": "stream",
     "text": [
      "Data dimensions before PCA :  (1000, 345600)\n",
      "Data dimensions after PCA :  (1000, 50)\n",
      "Canonical-Correlation Analysis score :  0.9731857649361263\n"
     ]
    }
   ],
   "source": [
    "#For realworld env images\n",
    "enet_v = \"./realworld_data/extracted_values_v.pkl\"\n",
    "enet_r = \"./realworld_data/extracted_values_r.pkl\"\n",
    "compute_cca(enet_v,enet_r)"
   ]
  }
 ],
 "metadata": {
  "kernelspec": {
   "display_name": "Python 3",
   "language": "python",
   "name": "python3"
  },
  "language_info": {
   "codemirror_mode": {
    "name": "ipython",
    "version": 3
   },
   "file_extension": ".py",
   "mimetype": "text/x-python",
   "name": "python",
   "nbconvert_exporter": "python",
   "pygments_lexer": "ipython3",
   "version": "3.6.6"
  }
 },
 "nbformat": 4,
 "nbformat_minor": 2
}
