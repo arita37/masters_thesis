{
 "cells": [
  {
   "cell_type": "code",
   "execution_count": 1,
   "metadata": {},
   "outputs": [],
   "source": [
    "from sklearn.cross_decomposition import CCA\n",
    "from sklearn.decomposition import PCA\n",
    "from tqdm import tqdm_notebook as tqdm\n",
    "import _pickle as cPickle\n",
    "import numpy as np"
   ]
  },
  {
   "cell_type": "code",
   "execution_count": 2,
   "metadata": {},
   "outputs": [],
   "source": [
    "def load_pickle(path):\n",
    "    with open(path,'rb') as file_:\n",
    "        value = cPickle.load(file_)\n",
    "    return value\n",
    "\n",
    "def flatten_(value_):\n",
    "    for i in tqdm(range(len(value_))):\n",
    "        value_[i] = value_[i].ravel()\n",
    "    array_ = np.array(value_)\n",
    "    return array_"
   ]
  },
  {
   "cell_type": "code",
   "execution_count": 3,
   "metadata": {
    "scrolled": true
   },
   "outputs": [],
   "source": [
    "#paths\n",
    "carla = \"./extracted_values_carla.pkl\"\n",
    "cityscapes = \"./extracted_values_cityscapes.pkl\""
   ]
  },
  {
   "cell_type": "code",
   "execution_count": 4,
   "metadata": {},
   "outputs": [],
   "source": [
    "#load values\n",
    "array_v = load_pickle(carla)\n",
    "array_r = load_pickle(cityscapes)"
   ]
  },
  {
   "cell_type": "code",
   "execution_count": 5,
   "metadata": {},
   "outputs": [
    {
     "data": {
      "application/vnd.jupyter.widget-view+json": {
       "model_id": "98e9891376824b26a1987225142b8a50",
       "version_major": 2,
       "version_minor": 0
      },
      "text/plain": [
       "HBox(children=(IntProgress(value=0, max=1000), HTML(value='')))"
      ]
     },
     "metadata": {},
     "output_type": "display_data"
    },
    {
     "name": "stdout",
     "output_type": "stream",
     "text": [
      "\n"
     ]
    },
    {
     "data": {
      "application/vnd.jupyter.widget-view+json": {
       "model_id": "a1ae1194891b46fbba6e723db7fae68f",
       "version_major": 2,
       "version_minor": 0
      },
      "text/plain": [
       "HBox(children=(IntProgress(value=0, max=1000), HTML(value='')))"
      ]
     },
     "metadata": {},
     "output_type": "display_data"
    },
    {
     "name": "stdout",
     "output_type": "stream",
     "text": [
      "\n"
     ]
    }
   ],
   "source": [
    "#flatten data\n",
    "array_v = flatten_(array_v)\n",
    "array_r = flatten_(array_r)"
   ]
  },
  {
   "cell_type": "code",
   "execution_count": 6,
   "metadata": {},
   "outputs": [
    {
     "name": "stdout",
     "output_type": "stream",
     "text": [
      "(1000, 345600)\n",
      "(1000, 345600)\n"
     ]
    }
   ],
   "source": [
    "#Dimensions\n",
    "print(array_v.shape)\n",
    "print(array_r.shape)"
   ]
  },
  {
   "cell_type": "code",
   "execution_count": 7,
   "metadata": {},
   "outputs": [
    {
     "name": "stdout",
     "output_type": "stream",
     "text": [
      "(1000, 50)\n",
      "(1000, 50)\n"
     ]
    }
   ],
   "source": [
    "#PCA\n",
    "pca = PCA(n_components=50)\n",
    "array_v = pca.fit_transform(array_v)\n",
    "array_r = pca.fit_transform(array_r)\n",
    "\n",
    "#Dimensions after PCA\n",
    "print(array_v.shape)\n",
    "print(array_r.shape)"
   ]
  },
  {
   "cell_type": "code",
   "execution_count": 8,
   "metadata": {},
   "outputs": [
    {
     "name": "stdout",
     "output_type": "stream",
     "text": [
      "0.9553697446962025\n"
     ]
    }
   ],
   "source": [
    "#CCA\n",
    "cca = CCA(n_components=1)\n",
    "V_c, R_c = cca.fit_transform(array_v, array_r)\n",
    "\n",
    "#Score\n",
    "result = np.corrcoef(V_c.T, R_c.T)[0,1]\n",
    "\n",
    "print(result)"
   ]
  },
  {
   "cell_type": "code",
   "execution_count": null,
   "metadata": {},
   "outputs": [],
   "source": []
  }
 ],
 "metadata": {
  "kernelspec": {
   "display_name": "Python 3",
   "language": "python",
   "name": "python3"
  },
  "language_info": {
   "codemirror_mode": {
    "name": "ipython",
    "version": 3
   },
   "file_extension": ".py",
   "mimetype": "text/x-python",
   "name": "python",
   "nbconvert_exporter": "python",
   "pygments_lexer": "ipython3",
   "version": "3.6.6"
  }
 },
 "nbformat": 4,
 "nbformat_minor": 2
}
